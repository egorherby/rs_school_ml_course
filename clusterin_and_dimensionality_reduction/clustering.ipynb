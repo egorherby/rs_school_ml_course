{
 "cells": [
  {
   "cell_type": "markdown",
   "metadata": {},
   "source": [
    "Each task that is proposed to be completed as part of the homework has a declared \"price\" in points. The maximum possible amount is 10 points, and together with the bonus assignment - 12 points. It is not necessary to complete all the tasks, only a part can be done. Most of the points expect you to write working Python code; sometimes you will need to write comments - for example, to compare several approaches to solve the same problem. Also you can add more cells for your convenience if you need."
   ]
  },
  {
   "cell_type": "markdown",
   "metadata": {},
   "source": [
    "This homework focuses on clustering. We will work with images of handwritten digits, learn how to cluster them using two different methods (hierarchical clustering and the 𝐾-means algorithm), evaluate the quality of the partition and choose the optimal number of clusters, as well as visualize intermediate results."
   ]
  },
  {
   "cell_type": "code",
   "execution_count": 10,
   "metadata": {},
   "outputs": [],
   "source": [
    "import numpy as np\n",
    "import pandas as pd\n",
    "from matplotlib import pyplot as plt"
   ]
  },
  {
   "cell_type": "markdown",
   "metadata": {},
   "source": [
    "## 1. Loading data\n",
    "The data we will be working with is available in the scikit-learn library (`sklearn` module) in the `datasets` submodule via the `load_digits` function. The data contains 1,797 observations, each of which is 8×8 pixel image of a handwritten digit from 0 to 9. This is about the same amount of each digit (about 180).\n",
    "\n",
    "For convenience, every image expands to a 64 (8×8) row, so entire numpy array is 1797×64. The color intensity in each pixel is encoded with an integer from 0 to 16.\n",
    "\n",
    "In addition to images, their labels are also known. In this task, we will assume that the labels (as well as their amount) are unknown and try to group the data in such a way that the resulting clusters 'better match' the original ones. Possible options for determining the 'better match' are presented later."
   ]
  },
  {
   "cell_type": "markdown",
   "metadata": {},
   "source": [
    "**(0.25 points)** Load the images into `X` variable, and their labels into `y` variable."
   ]
  },
  {
   "cell_type": "code",
   "execution_count": 1,
   "metadata": {},
   "outputs": [],
   "source": [
    "from sklearn.datasets import load_digits"
   ]
  },
  {
   "cell_type": "code",
   "execution_count": 8,
   "metadata": {},
   "outputs": [],
   "source": [
    "X, y = load_digits(return_X_y=True)"
   ]
  },
  {
   "cell_type": "code",
   "execution_count": 9,
   "metadata": {},
   "outputs": [],
   "source": [
    "assert X.shape == (1797, 64)\n",
    "assert y.shape == (1797,)"
   ]
  },
  {
   "cell_type": "markdown",
   "metadata": {},
   "source": [
    "**(0.5 points)** Visualize the first 10 images.\n",
    "\n",
    "- Arrange images on a grid rather than in a row. You may need the `subplot` and `imshow` functions from the `pyplot` module in the `matplotlib` library.\n",
    "- You will also need to reshape the images to 8×8.\n",
    "- Remove ticks and labels from both axes. The `xticks` and `yticks` functions or the `tick_params` function from `pyplot` can help you with this.\n",
    "- Make the output good sized with the `figure` function from `pyplot`."
   ]
  },
  {
   "cell_type": "code",
   "execution_count": 39,
   "metadata": {},
   "outputs": [
    {
     "data": {
      "image/png": "[encoded data removed]",
      "text/plain": [
       "<Figure size 720x288 with 10 Axes>"
      ]
     },
     "metadata": {
      "needs_background": "light"
     },
     "output_type": "display_data"
    }
   ],
   "source": [
    "fig, axes = plt.subplots(nrows=2, ncols=5, figsize=(10,4))\n",
    "for ax, image, label in zip(axes.flatten(), X[:10], y[:10]):\n",
    "    ax.set_axis_off()\n",
    "    ax.set_title(label)\n",
    "    ax.imshow(image.reshape((8, 8)), cmap='gray')"
   ]
  },
  {
   "cell_type": "markdown",
   "metadata": {},
   "source": [
    "## 2. Clustering and quality evaluation"
   ]
  },
  {
   "cell_type": "markdown",
   "metadata": {},
   "source": [
    "**(2 points)** Implement the the KMeans algorithm. Use objective function $L = \\sum_{i=1}^{n}|x_{i}-Z_{A(x_{i})}|^{2}$, where $Z_{A(x_{i})}$ is the center of the cluster corresponding to $x_{i}$ object."
   ]
  },
  {
   "cell_type": "code",
   "execution_count": 40,
   "metadata": {},
   "outputs": [],
   "source": [
    "from sklearn.exceptions import NotFittedError\n",
    "from numpy.random import RandomState"
   ]
  },
  {
   "cell_type": "code",
   "execution_count": 424,
   "metadata": {},
   "outputs": [],
   "source": [
    "from sklearn.metrics import pairwise_distances"
   ]
  },
  {
   "cell_type": "code",
   "execution_count": 831,
   "metadata": {},
   "outputs": [],
   "source": [
    "class CustomKMeans:\n",
    "    def __init__(self, n_clusters=2, max_iter=30, n_init=10, random_state=42):\n",
    "        '''K-Means clustering.\n",
    "        \n",
    "        Args:\n",
    "            n_clusters: int, default=2\n",
    "                The number of clusters to be formed is also \n",
    "                the number of centroids to generate. \n",
    "            max_iter: int, default=30\n",
    "                Maximum number of iterations of the k-means algorithm for a\n",
    "                single run.\n",
    "            n_init: int, default=10\n",
    "                Number of time the k-means algorithm will be run with different\n",
    "                centroid seeds. The final results will be the best output of\n",
    "                n_init consecutive runs in terms of objective function.\n",
    "            random_state: int, default=42\n",
    "                Random state.\n",
    "        '''\n",
    "        self.n_clusters = n_clusters\n",
    "        self.n_init = n_init\n",
    "        self.max_iter = max_iter\n",
    "        self.random_state = RandomState(seed=random_state)\n",
    "        \n",
    "    def calculate_distances_to_centroids(self, X, cluster_centers):\n",
    "        \"\"\"\n",
    "        Returns (n, c) matrix where the element at position (i, j) \n",
    "        is the distance from i-th object to j-th centroid.\"\"\"\n",
    "        # <your code>\n",
    "        return np.sqrt(np.sum((X[:,None]-cluster_centers)**2, -1))\n",
    "        \n",
    "    \n",
    "    def update_centroids(self, X, nearest_clusters):\n",
    "        \"\"\"\n",
    "        Returns numpy array of shape (n_clusters, n_features) - \n",
    "        new clusters that are found by averaging objects belonging \n",
    "        to the corresponding cluster.\"\"\"\n",
    "        # <your code>\n",
    "        d = self.calculate_distances_to_centroids(X, nearest_clusters)\n",
    "        labels = np.argmin(d, 1)\n",
    "        return np.array([np.mean(X[labels==l], 0) for l in range(self.n_clusters)])\n",
    "        \n",
    "\n",
    "    def fit(self, X):\n",
    "        \"\"\"Fit the model.\n",
    "        \n",
    "        Args:\n",
    "            X: numpy array of shape (n_samples, n_features)\n",
    "        \"\"\"\n",
    "        assert X.shape[0] >= self.n_clusters\n",
    "        # <your code>\n",
    "#         loss = np.zeros(self.n_init)\n",
    "        self.loss_ = np.full(self.n_init, np.inf)\n",
    "        cluster_runs = []\n",
    "        for run in range(self.n_init):\n",
    "            # выбираем просто случайные центры\n",
    "#             self.cluster_centers_ = self.random_state.random((self.n_clusters, X.shape[1]))\n",
    "            # выбираем центры из имеющихся точек\n",
    "            self.cluster_centers_ = X[self.random_state.choice(range(X.shape[0]), self.n_clusters, replace=0)] \n",
    "            for i in range(self.max_iter):\n",
    "                d = self.calculate_distances_to_centroids(X, self.cluster_centers_)\n",
    "                # наздначаем точкам класcы\n",
    "                labels = np.argmin(d, 1)\n",
    "                # бывает такое, что какой-то из центров кластеров далеко и к нему никто не хочет идти\n",
    "                # поэтому идем генерироватьь новые центры\n",
    "                if len(np.unique(labels)) < self.n_clusters:\n",
    "                    break\n",
    "                # усредняем точки внутри кластеров, обновляем центры кластеров\n",
    "                self.cluster_centers_ = np.array([np.mean(X[labels==l], 0) for l in range(self.n_clusters)])\n",
    "                # loss для KMeans\n",
    "                l = np.sum((X - self.cluster_centers_[labels])**2)\n",
    "                # если попали в минимум прерываемся и идем пробовать новые центры\n",
    "                if abs(l - self.loss_[run]) < 1e-5:\n",
    "                    break\n",
    "                self.loss_[run] = l\n",
    "#                 self.cluster_centers_ = self.update_centroids(X, self.cluster_centers_)\n",
    "#             d = self.calculate_distances_to_centroids(X, self.cluster_centers_)\n",
    "#             labels = np.argmin(d, 1)\n",
    "            cluster_runs.append(self.cluster_centers_)\n",
    "        # по результатам лосса за все n_init выбираем лучшие центры кластеров\n",
    "        self.cluster_centers_ = cluster_runs[np.argmin(self.loss_)]\n",
    "        return self\n",
    "            \n",
    "    \n",
    "    def predict(self, X):\n",
    "        \"\"\"Predict classes.\n",
    "        \n",
    "        Args:\n",
    "            X: numpy array of shape (n_samples, n_features)\n",
    "        Returns:\n",
    "            y: numpy array of shape (n_samples,)\n",
    "                Vector containing predicted cluster labels.\n",
    "        \"\"\"\n",
    "        if hasattr(self, 'cluster_centers_'):\n",
    "            d = self.calculate_distances_to_centroids(X, self.cluster_centers_)\n",
    "            return np.argmin(d, 1)\n",
    "        else: \n",
    "            raise NotFittedError(\"CustomKMeans instance is not fitted yet\")"
   ]
  },
  {
   "cell_type": "markdown",
   "metadata": {},
   "source": [
    "**(1 points)** Get the `X` array partition into 10 clusters. Visualize the centers of clusters.\n",
    "- We will assume that the center of the cluster is average value of all observations belonging to the cluster.\n",
    "- The cluster centers should have the same shape as our observations (64). So you have to average the points across the rows."
   ]
  },
  {
   "cell_type": "code",
   "execution_count": 832,
   "metadata": {},
   "outputs": [],
   "source": [
    "km = CustomKMeans(n_clusters=10,random_state=42)"
   ]
  },
  {
   "cell_type": "code",
   "execution_count": 833,
   "metadata": {},
   "outputs": [
    {
     "data": {
      "text/plain": [
       "<__main__.CustomKMeans at 0x1b687b7a250>"
      ]
     },
     "execution_count": 833,
     "metadata": {},
     "output_type": "execute_result"
    }
   ],
   "source": [
    "km.fit(X)"
   ]
  },
  {
   "cell_type": "markdown",
   "metadata": {},
   "source": [
    "Так как центры кластеров выбираются как среднее среди всех точек принадлежащих кластеру, то достаточно просто отобразить центры кластеров, полученные во время обучения (хранятся внутри `cluster_centers_`)"
   ]
  },
  {
   "cell_type": "code",
   "execution_count": 834,
   "metadata": {},
   "outputs": [
    {
     "data": {
      "image/png": "[encoded data removed]",
      "text/plain": [
       "<Figure size 720x288 with 10 Axes>"
      ]
     },
     "metadata": {
      "needs_background": "light"
     },
     "output_type": "display_data"
    }
   ],
   "source": [
    "fig, axes = plt.subplots(nrows=2, ncols=5, figsize=(10,4))\n",
    "for ax, image in zip(axes.flatten(), km.cluster_centers_):\n",
    "    ax.set_axis_off()\n",
    "    ax.imshow(image.reshape((8, 8)), cmap='gray')"
   ]
  },
  {
   "cell_type": "code",
   "execution_count": 835,
   "metadata": {},
   "outputs": [],
   "source": [
    "custom_kmeans_labels = km.predict(X)\n",
    "assert custom_kmeans_labels.shape == (1797,)"
   ]
  },
  {
   "cell_type": "markdown",
   "metadata": {},
   "source": [
    "**(0.5 points)** Experiment with `max_iter` and `n_init` parameters. Look at the range of values of the objective function, it's best values, at what parameters and how often they are achieved."
   ]
  },
  {
   "cell_type": "code",
   "execution_count": 572,
   "metadata": {},
   "outputs": [],
   "source": [
    "loss = []\n",
    "for max_iter in range(1,50,5):\n",
    "    km = CustomKMeans(n_clusters=10, max_iter=max_iter, n_init=10)\n",
    "    km.fit(X)\n",
    "    loss.append(km.loss_)"
   ]
  },
  {
   "cell_type": "code",
   "execution_count": 579,
   "metadata": {},
   "outputs": [
    {
     "data": {
      "image/png": "[encoded data removed]",
      "text/plain": [
       "<Figure size 432x288 with 1 Axes>"
      ]
     },
     "metadata": {
      "needs_background": "light"
     },
     "output_type": "display_data"
    }
   ],
   "source": [
    "plt.plot(np.arange(1,50,5), np.amin(loss,1))\n",
    "plt.title('Loss vs number of iterations');\n",
    "plt.xlabel('max_iter');\n",
    "plt.ylabel('KMeans loss');"
   ]
  },
  {
   "cell_type": "markdown",
   "metadata": {},
   "source": [
    "Мы зафиксировали один из параметров(`n_init`), чтобы посмотреть как меняется loss в зависимости от количества итераций (`max_iter`). По графику хорошо виден \"локоть\", по которому можно выбратьь оптимальное значение параметра `max_iter`(11).\n",
    "Зафиксируем это значение и будем менять уже `n_init`"
   ]
  },
  {
   "cell_type": "code",
   "execution_count": 582,
   "metadata": {},
   "outputs": [],
   "source": [
    "loss = []\n",
    "for n_init in range(1,50,5):\n",
    "    km = CustomKMeans(n_clusters=10, max_iter=11, n_init=n_init)\n",
    "    km.fit(X)\n",
    "    loss.append(km.loss_)"
   ]
  },
  {
   "cell_type": "code",
   "execution_count": 589,
   "metadata": {},
   "outputs": [
    {
     "data": {
      "image/png": "[encoded data removed]",
      "text/plain": [
       "<Figure size 432x288 with 1 Axes>"
      ]
     },
     "metadata": {
      "needs_background": "light"
     },
     "output_type": "display_data"
    }
   ],
   "source": [
    "plt.plot(np.arange(1,50,5), [np.min(l) for l in loss])\n",
    "plt.title('Loss vs number of random initializations');\n",
    "plt.xlabel('n_init');\n",
    "plt.ylabel('KMeans loss');"
   ]
  },
  {
   "cell_type": "markdown",
   "metadata": {},
   "source": [
    "Наблюдаем такую же картину, отчетливо виден \"локоть\", с оптимальным значением параметра `n_init`, после которого значение лосса меняется незначительно"
   ]
  },
  {
   "cell_type": "markdown",
   "metadata": {},
   "source": [
    "Now we will use two popular algorithms: hierarchical clustering and $K$-means clustering. These and other algorithms are available in the `scikit-learn` module in the `cluster` submodule. Hierarchical clustering is called `AgglomerativeClustering`, and the $K$-means method is called `KMeans`.\n",
    "\n",
    "**(0.5 points)** Use each of the two methods: hierarchical clustering and KMeans. Get the `X` array partition into 10 clusters.\n",
    "\n",
    "- Note that `AgglomerativeClustering` does not have a `predict` method, so you can either use the `fit_predict` method or use the `fit` method and then look at the `labels_` attribute of the class instance.\n",
    "- Kmeans performs multiple runs (default 10) with random centers and then returns the best partition in terms of average distance within the clusters. You can increase the number of runs to improve the quality of predictions in the `i_init` parameter."
   ]
  },
  {
   "cell_type": "code",
   "execution_count": 590,
   "metadata": {},
   "outputs": [],
   "source": [
    "from sklearn.cluster import AgglomerativeClustering, KMeans"
   ]
  },
  {
   "cell_type": "code",
   "execution_count": 614,
   "metadata": {},
   "outputs": [],
   "source": [
    "skl_km =  KMeans(n_clusters=10,n_init=20).fit(X)"
   ]
  },
  {
   "cell_type": "code",
   "execution_count": 620,
   "metadata": {},
   "outputs": [],
   "source": [
    "skl_hier = AgglomerativeClustering(n_clusters=10).fit(X)"
   ]
  },
  {
   "cell_type": "code",
   "execution_count": 621,
   "metadata": {},
   "outputs": [],
   "source": [
    "hierarchical_labels = skl_hier.labels_\n",
    "kmeans_labels = skl_km.predict(X)"
   ]
  },
  {
   "cell_type": "code",
   "execution_count": 622,
   "metadata": {},
   "outputs": [],
   "source": [
    "assert hierarchical_labels.shape == (1797,)\n",
    "assert kmeans_labels.shape == (1797,)"
   ]
  },
  {
   "cell_type": "markdown",
   "metadata": {},
   "source": [
    "**(0.5 points)** Visualize the centers of clusters obtained by both methods."
   ]
  },
  {
   "cell_type": "markdown",
   "metadata": {},
   "source": [
    "Центры кластеров полученные с помощью KMeans"
   ]
  },
  {
   "cell_type": "code",
   "execution_count": 623,
   "metadata": {},
   "outputs": [
    {
     "data": {
      "image/png": "[encoded data removed]",
      "text/plain": [
       "<Figure size 720x288 with 10 Axes>"
      ]
     },
     "metadata": {
      "needs_background": "light"
     },
     "output_type": "display_data"
    }
   ],
   "source": [
    "fig, axes = plt.subplots(nrows=2, ncols=5, figsize=(10,4))\n",
    "for ax, image in zip(axes.flatten(), skl_km.cluster_centers_):\n",
    "    ax.set_axis_off()\n",
    "    ax.imshow(image.reshape((8, 8)), cmap='gray')"
   ]
  },
  {
   "cell_type": "markdown",
   "metadata": {},
   "source": [
    "Центры кластеров полученные с помощью Hierarchical Clustering"
   ]
  },
  {
   "cell_type": "markdown",
   "metadata": {},
   "source": [
    "Этот метод не возвращает центры кластеров(потому что и не ищет их), поэтому просто усредним точки с одинаковыми значениями найденных классов"
   ]
  },
  {
   "cell_type": "code",
   "execution_count": 626,
   "metadata": {},
   "outputs": [
    {
     "data": {
      "image/png": "[encoded data removed]",
      "text/plain": [
       "<Figure size 720x288 with 10 Axes>"
      ]
     },
     "metadata": {
      "needs_background": "light"
     },
     "output_type": "display_data"
    }
   ],
   "source": [
    "fig, axes = plt.subplots(nrows=2, ncols=5, figsize=(10,4))\n",
    "for ax, image in zip(axes.flatten(), np.array([np.mean(X[hierarchical_labels==l], 0) for l in range(10)])):\n",
    "    ax.set_axis_off()\n",
    "    ax.imshow(image.reshape((8, 8)), cmap='gray')"
   ]
  },
  {
   "cell_type": "markdown",
   "metadata": {},
   "source": [
    "In a situation where the true number of classes is unknown, we can select it by maximazing some metric.\n",
    "\n",
    "When we can set some distance function between our observations, we can consider the `silhouette` distance as a function of measuring the quality of the clustering. Let's show how it is calculated:"
   ]
  },
  {
   "cell_type": "markdown",
   "metadata": {},
   "source": [
    "Let $X$ – set of observations, $M \\subset X$ – one of the clusters obtained as a result of clustering process, $\\rho$ – some metric on $X$. Let's choose one observation $x \\in M$. Denote $a(x)$ as the average distance from $x$ to  $x'$ points from the same cluster:\n",
    "$$\n",
    "a(x) = \\frac{1}{|M| - 1} \\sum_{x' \\in M,\\, x' \\ne x} \\rho(x,\\, x')\n",
    "$$\n",
    "\n",
    "Denote $b(x)$ as minimun of average distances from $x$ to $x''$ from some other cluster $N$:\n",
    "$$\n",
    "b(x) = \\min_{N \\ne M} \\frac{1}{|N|} \\sum_{x'' \\in N} \\rho(x,\\, x'')\n",
    "$$\n",
    "\n",
    "The silhouette is difference between a(x) and b(x), normalized to $[-1, \\, 1]$ and averaged over all observations:\n",
    "$$\n",
    "\\frac{1}{|X|} \\sum_{x \\in X} \\frac{b(x) - a(x)}{\\max(a(x),\\, b(x))}\n",
    "$$\n",
    "\n",
    "The implementation of this metric in the `scikit-learn` is the `silhouette_score` function from the `metrics` submidule."
   ]
  },
  {
   "cell_type": "markdown",
   "metadata": {
    "collapsed": true
   },
   "source": [
    "**(0.75 point)** For each $K$ between 2 and 20 inclusive, partition of the array $X$ into $K$ clusters using both methods. Calculate the silhouette score and visualize it for both methods on the same plot ($K$ on the $x$ axis and silhouette score on the $y$ axis). Sign the axes and make a legend."
   ]
  },
  {
   "cell_type": "code",
   "execution_count": 734,
   "metadata": {},
   "outputs": [],
   "source": [
    "from sklearn.metrics import silhouette_samples, silhouette_score, v_measure_score"
   ]
  },
  {
   "cell_type": "markdown",
   "metadata": {},
   "source": [
    "Попробую вычислить силуэт точки сам без библиотечной функции:<br>\n",
    "(посчитаем количество точек внутри кластеров — число одинаковых лэйблов кластера, параметр $M$ в выражении для $a(x)$)"
   ]
  },
  {
   "cell_type": "code",
   "execution_count": 644,
   "metadata": {},
   "outputs": [],
   "source": [
    "l, fr = np.unique(skl_km.labels_,return_counts=1)"
   ]
  },
  {
   "cell_type": "markdown",
   "metadata": {},
   "source": [
    "Посчитаем среднее внутрикластерное расстояние для точки X[0]\n",
    "(в определении силуэта это $a(x)$)"
   ]
  },
  {
   "cell_type": "code",
   "execution_count": 677,
   "metadata": {},
   "outputs": [
    {
     "data": {
      "text/plain": [
       "23.898804294820867"
      ]
     },
     "execution_count": 677,
     "metadata": {},
     "output_type": "execute_result"
    }
   ],
   "source": [
    "a = np.sum(np.sqrt(np.sum((X[0]-X[skl_km.labels_==skl_km.labels_[0]])**2,-1)))/(fr[skl_km.labels_[0]]-1)\n",
    "a"
   ]
  },
  {
   "cell_type": "markdown",
   "metadata": {},
   "source": [
    "Посчитаем средние расстояния от точки X[0] до точек в других кластерах и найдем минимальное среди таких"
   ]
  },
  {
   "cell_type": "code",
   "execution_count": 680,
   "metadata": {},
   "outputs": [
    {
     "data": {
      "text/plain": [
       "41.40037780778469"
      ]
     },
     "execution_count": 680,
     "metadata": {},
     "output_type": "execute_result"
    }
   ],
   "source": [
    "b = np.min([np.mean(np.sqrt(np.sum((X[0]-X[skl_km.labels_==i])**2,-1))) for i in range(10) if i!=1])\n",
    "b"
   ]
  },
  {
   "cell_type": "markdown",
   "metadata": {},
   "source": [
    "посчитаем силуэт точки X[0]"
   ]
  },
  {
   "cell_type": "code",
   "execution_count": 682,
   "metadata": {},
   "outputs": [
    {
     "data": {
      "text/plain": [
       "0.4227394637368002"
      ]
     },
     "execution_count": 682,
     "metadata": {},
     "output_type": "execute_result"
    }
   ],
   "source": [
    "(b-a)/max(a,b)"
   ]
  },
  {
   "cell_type": "markdown",
   "metadata": {},
   "source": [
    "Сравним со значением для точки X[0] библиотечной фукнции:"
   ]
  },
  {
   "cell_type": "code",
   "execution_count": 683,
   "metadata": {},
   "outputs": [
    {
     "data": {
      "text/plain": [
       "0.4227394637368006"
      ]
     },
     "execution_count": 683,
     "metadata": {},
     "output_type": "execute_result"
    }
   ],
   "source": [
    "silhouette_samples(X,skl_km.labels_)[0]"
   ]
  },
  {
   "cell_type": "markdown",
   "metadata": {},
   "source": [
    "Получили одинаковое значение<br> \n",
    "Можно дальше это сделать для всех точек датасета и усреднить, но моя реализация очень неоптимальна, так что воспользуюсь библиотечной функцией"
   ]
  },
  {
   "cell_type": "code",
   "execution_count": 711,
   "metadata": {},
   "outputs": [],
   "source": [
    "sil_km = []\n",
    "sil_hier = []\n",
    "for k in range(2,21):\n",
    "    km_sil = KMeans(n_clusters=k, max_iter=30)\n",
    "    hier_sil = AgglomerativeClustering(n_clusters=k)\n",
    "    km_sil.fit(X)\n",
    "    hier_sil.fit(X)\n",
    "    sil_km.append(silhouette_score(X, km_sil.labels_))\n",
    "    sil_hier.append(silhouette_score(X, hier_sil.labels_))"
   ]
  },
  {
   "cell_type": "code",
   "execution_count": 746,
   "metadata": {},
   "outputs": [
    {
     "data": {
      "image/png": "[encoded data removed]",
      "text/plain": [
       "<Figure size 432x288 with 1 Axes>"
      ]
     },
     "metadata": {
      "needs_background": "light"
     },
     "output_type": "display_data"
    }
   ],
   "source": [
    "plt.plot(np.arange(2,21), sil_km, label='KMeans');\n",
    "plt.plot(np.arange(2,21), sil_hier, label='Hierarchical');\n",
    "plt.vlines(np.argmax([sil_hier,sil_km],1)+2, 0.1, 0.2, linewidth=0.5);\n",
    "plt.xticks(np.arange(2,21));\n",
    "plt.xlabel('number of cluster');\n",
    "plt.ylabel('silhouette score');\n",
    "plt.legend();"
   ]
  },
  {
   "cell_type": "markdown",
   "metadata": {},
   "source": [
    "When we know the true clustering labels, the clustering result can be compared to them using measures such as `homogeneity`, `completeness` and their harmonic mean - $V$-score. The definitions of these quantities are rather bulky and are based on the [entropy of the probability distribution](https://ru.wikipedia.org/wiki/Информационная_энтропия). Details are given in [this article](http://aclweb.org/anthology/D/D07/D07-1043.pdf). In practice, it's enough to know that `homogeneity`, `completeness` and $V$-score are in the range from 0 and 1, and the more, the better.\n",
    "\n",
    "Since we know what digit each image is (`y` array), we can compare the clustering results to it using the measures listed above."
   ]
  },
  {
   "cell_type": "markdown",
   "metadata": {},
   "source": [
    "**(0.5 points)** Repeat the previous task using $V$-measure instead of silhouette."
   ]
  },
  {
   "cell_type": "code",
   "execution_count": 736,
   "metadata": {},
   "outputs": [],
   "source": [
    "v_score_km = []\n",
    "v_score_hier = []\n",
    "for k in range(2,21):\n",
    "    km_v_sc = KMeans(n_clusters=k, max_iter=30)\n",
    "    hier_v_sc = AgglomerativeClustering(n_clusters=k)\n",
    "    km_v_sc.fit(X)\n",
    "    hier_v_sc.fit(X)\n",
    "    v_score_km.append(v_measure_score(y, km_v_sc.labels_))\n",
    "    v_score_hier.append(v_measure_score(y, hier_v_sc.labels_))"
   ]
  },
  {
   "cell_type": "code",
   "execution_count": 752,
   "metadata": {},
   "outputs": [
    {
     "data": {
      "image/png": "[encoded data removed]",
      "text/plain": [
       "<Figure size 432x288 with 1 Axes>"
      ]
     },
     "metadata": {
      "needs_background": "light"
     },
     "output_type": "display_data"
    }
   ],
   "source": [
    "plt.plot(np.arange(2,21), v_score_km, label='KMeans');\n",
    "plt.plot(np.arange(2,21), v_score_hier, label='Hierarchical');\n",
    "plt.vlines(np.argmax(v_score_km)+2, 0.3, max(v_score_km), linewidth=0.5);\n",
    "plt.vlines(np.argmax(v_score_hier)+2, 0.3, max(v_score_hier), linewidth=0.5,colors='purple');\n",
    "plt.xticks(np.arange(2,21))\n",
    "plt.xlabel('number of cluster');\n",
    "plt.ylabel('V measure score');\n",
    "plt.legend();"
   ]
  },
  {
   "cell_type": "markdown",
   "metadata": {},
   "source": [
    "## 3. Feature space dimensionality reduction\n",
    "\n",
    "In some cases, especially when there are a large number of features, when not all of them are informative, and some of them are correlated, it can be useful to reduce the dimension of the feature space. This mean that instead of $d$ original features, we will go to $d'\\ll d$ new ones. And if earlier our data were presented in the form of an $n×d$ matrix, then it will presented as a $n×d'$.\n",
    "\n",
    "There are two popular dimensionality reduction approaches:\n",
    "- select new features from existing features;\n",
    "- extract the new features by transforming old ones, for example, by making $d'$ different linear combinations of columns of an $n×d$ matrix.\n",
    "\n",
    "One widely used dimensionality reduction technique is the Singular Value Decomposition (SVD). This method allows you to construct any number $d'\\leq d$ of new features in such a way that they are the most informative (in some sense).\n",
    "\n",
    "The `scikit-learn` module has several implementations of singular value decomposition. We will use the `TruncatedSVD` class from the `decomposition` submodule.\n",
    "\n",
    "**Note:** The singular value decomposition of the matrix $M$ is usually written as $M=U \\Sigma V^{*}$. `TruncatedSVD`, in turn, returns only the $d'$ first columns of the matrix $U$."
   ]
  },
  {
   "cell_type": "markdown",
   "metadata": {},
   "source": [
    "**(0.75 point)** Perform a singular value decomposition of the $X$ matrix, leaving 2, 5, 10, 20 features. In each case, perform hierarchical clustering and $K$-Means clustering (take the number of clusters equal to 10). Calculate the silhouette and $V$-score and compare them to corresponding values obtained from the original data.\n",
    "\n",
    "**Note**: It is not valid to compare the silhouette calculated with different metrics. Even if we use the same metric function when calculating the distance between points in the data, after applying dimensionality reduction or other data transformations, we will (not always) get different silhouette scores. Therefore, after training the clustering algorithm, to compare the result of clustering, you need to calculate the silhouette on the original data."
   ]
  },
  {
   "cell_type": "code",
   "execution_count": 781,
   "metadata": {},
   "outputs": [],
   "source": [
    "from sklearn.decomposition import TruncatedSVD"
   ]
  },
  {
   "cell_type": "markdown",
   "metadata": {},
   "source": [
    "Посчитаем силуэт и v-score для полных данных в качестве бэйзлайна:"
   ]
  },
  {
   "cell_type": "code",
   "execution_count": 782,
   "metadata": {},
   "outputs": [],
   "source": [
    "km = KMeans(n_clusters=10).fit_predict(X)\n",
    "hier = AgglomerativeClustering(n_clusters=10).fit_predict(X)"
   ]
  },
  {
   "cell_type": "code",
   "execution_count": 791,
   "metadata": {},
   "outputs": [
    {
     "name": "stdout",
     "output_type": "stream",
     "text": [
      "kmeans c полными данными, 10 кластеров\n",
      "силуэт=0.18211115081307583, v_score=0.7373557208714144\n",
      "hierarchical c полными данными, 10 кластеров\n",
      "силуэт=0.17849659940596496, v_score=0.8681701126909083\n"
     ]
    }
   ],
   "source": [
    "print(f\"kmeans c полными данными, 10 кластеров\\nсилуэт={silhouette_score(X,km)}, v_score={v_measure_score(y, km)}\")\n",
    "print(f\"hierarchical c полными данными, 10 кластеров\\nсилуэт={silhouette_score(X,hier)}, v_score={v_measure_score(y, hier)}\")"
   ]
  },
  {
   "cell_type": "code",
   "execution_count": 794,
   "metadata": {},
   "outputs": [
    {
     "name": "stdout",
     "output_type": "stream",
     "text": [
      "kmeans 2 features, silh=0.00634464991465075, v_score=0.34651180104021345\n",
      "hierarchical 2 features, silh=-0.007681018630218928, v_score=0.3337189903948925\n",
      "\n",
      "kmeans 5 features, silh=0.16859796560589405, v_score=0.6351431850310999\n",
      "hierarchical 5 features, silh=0.1620113963829507, v_score=0.6756036446423491\n",
      "\n",
      "kmeans 10 features, silh=0.18051375012934556, v_score=0.721854504251811\n",
      "hierarchical 10 features, silh=0.1765881132796084, v_score=0.8259753348813222\n",
      "\n",
      "kmeans 20 features, silh=0.18222098898513137, v_score=0.7417709309180348\n",
      "hierarchical 20 features, silh=0.16913283397404957, v_score=0.8143882689038883\n",
      "\n"
     ]
    }
   ],
   "source": [
    "for feat in [2,5,10,20]:\n",
    "    reduced_X = TruncatedSVD(feat).fit_transform(X)\n",
    "    km = KMeans(n_clusters=10).fit_predict(reduced_X)\n",
    "    hier = AgglomerativeClustering(n_clusters=10).fit_predict(reduced_X)\n",
    "    print(f'kmeans {feat} features, silh={silhouette_score(X,km)}, v_score={v_measure_score(y, km)}')\n",
    "    print(f'hierarchical {feat} features, silh={silhouette_score(X,hier)}, v_score={v_measure_score(y, hier)}',end='\\n\\n')"
   ]
  },
  {
   "cell_type": "markdown",
   "metadata": {},
   "source": [
    "Видно, что для hierarchical clustering с точки зрения значения обеих метрик, 10 признаков полученных после SVD-разложения является оптимальным, значения получились очень близкими к полученным на исходных данных, при этом вычислительно 10 признаков по сравнению с 64 — дают значительный прирост<br>\n",
    "Для k-means 20 признаков оказалось оптимальным, v-score получился даже выше, что опять же уменьшает вычислительную сложность по сравнению с 64 признаками."
   ]
  },
  {
   "cell_type": "markdown",
   "metadata": {},
   "source": [
    "Another popular dimensionality reduction approach that is useful for working with images is t-distributed stochastic neighbor embeddings, abbreviated `tSNE`. Unlike singular value decomposition, this it is non-linear transformation. It's main idea is to map points from a space of dimension `d` to another space of dimension 2 or 3 in such a way that the distances between points are mostly preserved. Mathematical details can be found, for example, [here](https://en.wikipedia.org/wiki/T-distributed_stochastic_neighbor_embedding).\n",
    "\n",
    "The implementation of `tSNE` in the `scikit-learn` library is the `TSNE` class in the `manifold` submodule.\n",
    "\n",
    "**Note:** In recent years [UMAP](https://github.com/lmcinnes/umap) is often used istead of `tSNE`. It is a faster algorithm with similar properties. We don't ask you to use `UMAP` because it requires you to install another dependency, the `umap-learn` library. Those who wish can perform the following task using `UMAP`."
   ]
  },
  {
   "cell_type": "code",
   "execution_count": 755,
   "metadata": {},
   "outputs": [],
   "source": [
    "from sklearn.manifold import TSNE"
   ]
  },
  {
   "cell_type": "markdown",
   "metadata": {},
   "source": [
    "**(0.5 points)** Perform a tSNE-transform of the `X` matrix, leaving 2 features. Visualize the obtained data in the form of a scatter plot form: the first feature on the horizontal axis, and the second one the vertical axis. Color the points according to the digits they belong to.\n",
    "\n",
    "- The `c` parameter in the plt.scatter function is responsible for the color of the points. Pass the true labels to it."
   ]
  },
  {
   "cell_type": "code",
   "execution_count": 807,
   "metadata": {},
   "outputs": [],
   "source": [
    "tsne_x = TSNE().fit_transform(X)"
   ]
  },
  {
   "cell_type": "code",
   "execution_count": 808,
   "metadata": {},
   "outputs": [
    {
     "data": {
      "image/png": "[encoded data removed]",
      "text/plain": [
       "<Figure size 432x288 with 1 Axes>"
      ]
     },
     "metadata": {
      "needs_background": "light"
     },
     "output_type": "display_data"
    }
   ],
   "source": [
    "plt.scatter(tsne_x[:,0], tsne_x[:,1], c=y);\n",
    "plt.title('tsne dimension reduction')\n",
    "plt.xlabel('t-SNE feature_1');\n",
    "plt.ylabel('t-SNE feature_2');"
   ]
  },
  {
   "cell_type": "markdown",
   "metadata": {},
   "source": [
    "Так как tsne старается сохранить внутрикластерные расстояния при уменьшении размерности, видно, что кластеры соответствующие однаковым цифрам оказались сгруппированы вместе."
   ]
  },
  {
   "cell_type": "markdown",
   "metadata": {},
   "source": [
    "**(0.5 points)** From the data transformed using the tSNE, perform hierarchical clustering and $K$-means clustering (take the number of clusters equal to 10). Calculate the silhouette and the $V$-score and compare them to corresponding values obtained from the original data."
   ]
  },
  {
   "cell_type": "code",
   "execution_count": 795,
   "metadata": {},
   "outputs": [],
   "source": [
    "km_tsne = KMeans(n_clusters=10).fit_predict(tsne_x)\n",
    "hier_tsne = AgglomerativeClustering(n_clusters=10).fit_predict(tsne_x)"
   ]
  },
  {
   "cell_type": "code",
   "execution_count": 798,
   "metadata": {},
   "outputs": [
    {
     "name": "stdout",
     "output_type": "stream",
     "text": [
      "kmeans c полными данными, 10 кластеров\n",
      "силуэт=0.18222098898513137, v_score=0.7417709309180348\n",
      "hierarchical c полными данными, 10 кластеров\n",
      "силуэт=0.16913283397404957, v_score=0.8143882689038883\n"
     ]
    }
   ],
   "source": [
    "print(f\"kmeans c полными данными, 10 кластеров\\nсилуэт={silhouette_score(X,km)}, v_score={v_measure_score(y, km)}\")\n",
    "print(f\"hierarchical c полными данными, 10 кластеров\\nсилуэт={silhouette_score(X,hier)}, v_score={v_measure_score(y, hier)}\")"
   ]
  },
  {
   "cell_type": "code",
   "execution_count": 803,
   "metadata": {},
   "outputs": [
    {
     "name": "stdout",
     "output_type": "stream",
     "text": [
      "метрики после понижения размерности tsne для kmeans(силуэт,v-score соотвественно)\n",
      " 0.16417954382015898 0.9031527387720559\n",
      "метрики после понижения размерности tsne для hiearchical clustering (силуэт,v-score соотвественно)\n",
      " 0.16395023788428867 0.9087452370642025\n"
     ]
    }
   ],
   "source": [
    "print('метрики после понижения размерности tsne для kmeans(силуэт,v-score соотвественно)\\n',silhouette_score(X, km_tsne), v_measure_score(y, km_tsne))\n",
    "print('метрики после понижения размерности tsne для hiearchical clustering (силуэт,v-score соотвественно)\\n',silhouette_score(X, hier_tsne), v_measure_score(y, hier_tsne))"
   ]
  },
  {
   "cell_type": "markdown",
   "metadata": {},
   "source": [
    "#### Ввиду того, что tsne сбивает точки в плотные сферические кластеры, алгоритмы kmeans и hierarchical clustering показывают очень высокие v-score, для hierarchical значение силуэта также очень близко к оригинальным данным"
   ]
  },
  {
   "cell_type": "markdown",
   "metadata": {},
   "source": [
    "**(0.25 points)** Choose the best partition (in terms of silhouette or $V$-score) and visualize the centers of clusters with images. Did you managed to make each digit correspond to one center of the cluster?"
   ]
  },
  {
   "cell_type": "markdown",
   "metadata": {},
   "source": [
    "Выберу разбиение, которое дает hierarchical clustering после понижения размерности, потому что высокий v-score(выше чем у kmeans) и значение силуэта высокое и почти как на исходных данных"
   ]
  },
  {
   "cell_type": "code",
   "execution_count": 826,
   "metadata": {},
   "outputs": [
    {
     "data": {
      "text/plain": [
       "(1797,)"
      ]
     },
     "execution_count": 826,
     "metadata": {},
     "output_type": "execute_result"
    }
   ],
   "source": [
    "hier_tsne.shape"
   ]
  },
  {
   "cell_type": "code",
   "execution_count": 827,
   "metadata": {},
   "outputs": [
    {
     "data": {
      "text/plain": [
       "array([0, 1, 2, 3, 4, 5, 6, 7, 8, 9], dtype=int64)"
      ]
     },
     "execution_count": 827,
     "metadata": {},
     "output_type": "execute_result"
    }
   ],
   "source": [
    "np.unique(hier_tsne)"
   ]
  },
  {
   "cell_type": "code",
   "execution_count": 830,
   "metadata": {},
   "outputs": [
    {
     "data": {
      "image/png": "[encoded data removed]",
      "text/plain": [
       "<Figure size 720x288 with 10 Axes>"
      ]
     },
     "metadata": {
      "needs_background": "light"
     },
     "output_type": "display_data"
    }
   ],
   "source": [
    "fig, axes = plt.subplots(nrows=2, ncols=5, figsize=(10,4))\n",
    "for ax, image in zip(axes.flatten(), np.array([np.mean(X[hier_tsne==l],0) for l in range(10)])):\n",
    "    ax.set_axis_off()\n",
    "    ax.imshow(image.reshape((8, 8)), cmap='gray')"
   ]
  },
  {
   "cell_type": "markdown",
   "metadata": {},
   "source": [
    "Центры кластеров получились хорошо различими, по сравнению с предыдущими вариантами цифры стали более четкие, что говорит о том, что близкие по написанию цифры были более хорошо сгруппированы(лучше стали различимы цифры 8, 4, 5, 9)"
   ]
  },
  {
   "cell_type": "markdown",
   "metadata": {},
   "source": [
    "## 4. Results and bonus part"
   ]
  },
  {
   "cell_type": "markdown",
   "metadata": {},
   "source": [
    "Write in free form what conclusions you made after completing this assignment. Answer the following questions:\n",
    "\n",
    "**(0.5 points)** Which algorithm gives more meaningful results - hierarchical clustering or $K$- means clustering. Does it depend on the algorithm settings or on the quality evaluation method?"
   ]
  },
  {
   "cell_type": "markdown",
   "metadata": {},
   "source": [
    "Я не могу сказать, что какой-то из двух алгоримов давал значительно лучшие результаты. K-means зависит от случайного выбора начальных позиций центров и может попасть в локальный минимум. Иерархическое разбиение, полагаясь на расстояния, постепенно собирает точки во все более крупные кластеры(или наоборот рекурсивно разбивает большой кластер, пока не поулчатся искомые н-кластеров). Оба метода стали показывать лучшие результаты после того как TSNE собрал точки в сферические кластеры<br>\n",
    "Для kmeans важно сделать несколько итераций с разными стартовыми позициями, так как количестов итераций за которое он сходится к стабильным центрам обычно небольшое(перестает меняться положение центров и лосс соответственно) так можно с большей вероятностью попасть ближе к глобальному оптимуму. "
   ]
  },
  {
   "cell_type": "markdown",
   "metadata": {},
   "source": [
    "**(0.5 points)** Imagine the situation where after hierarchical clustering, you need to cluster new data in the same way without retraining the model. Suggest a method how you will do it and how you will measure the quality of clustering of new data."
   ]
  },
  {
   "cell_type": "markdown",
   "metadata": {},
   "source": [
    "Для новых точек посчитать попарные расстояния (использовать ту же метрику, что была использована при обучении), использовать для этих точек классы полученных ближайших соседей."
   ]
  },
  {
   "cell_type": "markdown",
   "metadata": {
    "collapsed": true
   },
   "source": [
    "**(0.5 points)** Does dimensionality reduction improve clustering results?"
   ]
  },
  {
   "cell_type": "markdown",
   "metadata": {},
   "source": [
    "Я уже писал выше об этом, но да, для некоторых типов кластеризации методы понижения размерности(и PCA и tsne) улучшают качество кластеризации, так как либо сохраняют расстояния при переходе в пространство меньшей размерности, либо максимизиуруют дисперсию данных при уменьшении размерности"
   ]
  },
  {
   "cell_type": "markdown",
   "metadata": {},
   "source": [
    "**(0.5 points)** How to evaluate the quality of dimensional reduction? Suggest at least 2 options."
   ]
  },
  {
   "cell_type": "markdown",
   "metadata": {},
   "source": [
    "Мы можем получить лейблы на исходных данных, понизить размерность, получитьь лейблы классов на новых данных, затем использовать \n",
    "V-score(1) или Rand Index(2) для сравнения двух наборов лейблов.\n",
    "Так же мы можем посчитать силуэт для разбиения исходных данных, силуэт разбиения для данных пониженной размерности(относительно исходных данных) и сравнить полученные значения."
   ]
  },
  {
   "cell_type": "markdown",
   "metadata": {},
   "source": [
    "**(Bonus 2 points)** Load the [MNIST Handwritten Digits](http://yann.lecun.com/exdb/mnist) dataset. You can also do it with `scikit-learn` as explained [here](https://stackoverflow.com/a/60450028). Explore the data and try to cluster it using different approaches. Compare results of these approaches using the silhouette and the $V$-score."
   ]
  },
  {
   "cell_type": "code",
   "execution_count": null,
   "metadata": {},
   "outputs": [],
   "source": []
  }
 ],
 "metadata": {
  "kernelspec": {
   "display_name": "Python 3 (ipykernel)",
   "language": "python",
   "name": "python3"
  },
  "language_info": {
   "codemirror_mode": {
    "name": "ipython",
    "version": 3
   },
   "file_extension": ".py",
   "mimetype": "text/x-python",
   "name": "python",
   "nbconvert_exporter": "python",
   "pygments_lexer": "ipython3",
   "version": "3.9.7"
  }
 },
 "nbformat": 4,
 "nbformat_minor": 2
}
